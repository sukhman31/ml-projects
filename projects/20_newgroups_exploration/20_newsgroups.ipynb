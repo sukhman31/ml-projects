{
 "cells": [
  {
   "cell_type": "code",
   "execution_count": 16,
   "metadata": {},
   "outputs": [],
   "source": [
    "#imports\n",
    "from sklearn.datasets import fetch_20newsgroups\n",
    "import seaborn as sns\n",
    "import matplotlib.pyplot as plt\n",
    "from sklearn.feature_extraction.text import CountVectorizer\n",
    "import numpy as np\n",
    "from nltk.corpus import names\n",
    "from nltk.stem import WordNetLemmatizer\n",
    "from sklearn.cluster import KMeans\n",
    "from sklearn.decomposition import NMF"
   ]
  },
  {
   "cell_type": "code",
   "execution_count": 2,
   "metadata": {},
   "outputs": [],
   "source": [
    "#load dataset into object\n",
    "groups = fetch_20newsgroups()"
   ]
  },
  {
   "cell_type": "code",
   "execution_count": 3,
   "metadata": {},
   "outputs": [
    {
     "name": "stderr",
     "output_type": "stream",
     "text": [
      "/home/skhmn/Desktop/coding/ml_algos/venv/lib/python3.10/site-packages/seaborn/axisgrid.py:118: UserWarning: The figure layout has changed to tight\n",
      "  self._figure.tight_layout(*args, **kwargs)\n"
     ]
    },
    {
     "data": {
      "image/png": "[encoded data removed]",
      "text/plain": [
       "<Figure size 500x500 with 1 Axes>"
      ]
     },
     "metadata": {},
     "output_type": "display_data"
    }
   ],
   "source": [
    "#plot the distribution of the different newsgroups to get a sense of the data\n",
    "sns.displot(groups['target'])\n",
    "plt.show()"
   ]
  },
  {
   "cell_type": "code",
   "execution_count": 4,
   "metadata": {},
   "outputs": [],
   "source": [
    "#getting unigram counts\n",
    "cv = CountVectorizer(stop_words='english',max_features=500)\n",
    "transformed = cv.fit_transform(groups['data'])"
   ]
  },
  {
   "cell_type": "code",
   "execution_count": 5,
   "metadata": {},
   "outputs": [
    {
     "data": {
      "text/plain": [
       "(11314, 500)"
      ]
     },
     "execution_count": 5,
     "metadata": {},
     "output_type": "execute_result"
    }
   ],
   "source": [
    "'''there are 11314 sentences and there are 500 columns representing whether that word belongs\n",
    "to that sentence or not'''\n",
    "transformed.toarray().shape"
   ]
  },
  {
   "cell_type": "code",
   "execution_count": 6,
   "metadata": {},
   "outputs": [
    {
     "name": "stderr",
     "output_type": "stream",
     "text": [
      "/home/skhmn/Desktop/coding/ml_algos/venv/lib/python3.10/site-packages/seaborn/axisgrid.py:118: UserWarning: The figure layout has changed to tight\n",
      "  self._figure.tight_layout(*args, **kwargs)\n"
     ]
    },
    {
     "data": {
      "image/png": "[encoded data removed]",
      "text/plain": [
       "<Figure size 500x500 with 1 Axes>"
      ]
     },
     "metadata": {},
     "output_type": "display_data"
    }
   ],
   "source": [
    "#graph that shows the 500 highest word counts\n",
    "sns.displot(np.log(transformed.toarray().sum(axis=0)))\n",
    "plt.show()"
   ]
  },
  {
   "cell_type": "code",
   "execution_count": 7,
   "metadata": {},
   "outputs": [
    {
     "name": "stdout",
     "output_type": "stream",
     "text": [
      "['00' '000' '0d' '0t' '10' '100' '11' '12' '13' '14' '145' '15' '16' '17'\n",
      " '18' '19' '1993' '1d9' '20' '21' '22' '23' '24' '25' '26' '27' '28' '29'\n",
      " '30' '31' '32' '33' '34' '34u' '35' '40' '45' '50' '55' '80' '92' '93'\n",
      " '__' '___' 'a86' 'able' 'ac' 'access' 'actually' 'address' 'ago' 'agree'\n",
      " 'al' 'american' 'andrew' 'answer' 'anybody' 'apple' 'application' 'apr'\n",
      " 'april' 'area' 'argument' 'armenian' 'armenians' 'article' 'ask' 'asked'\n",
      " 'att' 'au' 'available' 'away' 'ax' 'b8f' 'bad' 'based' 'believe'\n",
      " 'berkeley' 'best' 'better' 'bible' 'big' 'bike' 'bit' 'black' 'board'\n",
      " 'body' 'book' 'box' 'buy' 'ca' 'california' 'called' 'came' 'canada'\n",
      " 'car' 'card' 'care' 'case' 'cause' 'cc' 'center' 'certain' 'certainly'\n",
      " 'change' 'check' 'children' 'chip' 'christ' 'christian' 'christians'\n",
      " 'church' 'city' 'claim' 'clinton' 'clipper' 'cmu' 'code' 'college'\n",
      " 'color' 'colorado' 'columbia' 'com' 'come' 'comes' 'company' 'computer'\n",
      " 'consider' 'contact' 'control' 'copy' 'correct' 'cost' 'country' 'couple'\n",
      " 'course' 'cs' 'current' 'cwru' 'data' 'dave' 'david' 'day' 'days' 'db'\n",
      " 'deal' 'death' 'department' 'dept' 'did' 'didn' 'difference' 'different'\n",
      " 'disk' 'display' 'distribution' 'division' 'dod' 'does' 'doesn' 'doing'\n",
      " 'don' 'dos' 'drive' 'driver' 'drivers' 'earth' 'edu' 'email' 'encryption'\n",
      " 'end' 'engineering' 'especially' 'evidence' 'exactly' 'example'\n",
      " 'experience' 'fact' 'faith' 'faq' 'far' 'fast' 'fax' 'feel' 'file'\n",
      " 'files' 'following' 'free' 'ftp' 'g9v' 'game' 'games' 'general' 'getting'\n",
      " 'given' 'gmt' 'god' 'going' 'good' 'got' 'gov' 'government' 'graphics'\n",
      " 'great' 'group' 'groups' 'guess' 'gun' 'guns' 'hand' 'hard' 'hardware'\n",
      " 'having' 'health' 'heard' 'hell' 'help' 'hi' 'high' 'history' 'hockey'\n",
      " 'home' 'hope' 'host' 'house' 'hp' 'human' 'ibm' 'idea' 'image'\n",
      " 'important' 'include' 'including' 'info' 'information' 'instead'\n",
      " 'institute' 'interested' 'internet' 'isn' 'israel' 'israeli' 'issue'\n",
      " 'james' 'jesus' 'jewish' 'jews' 'jim' 'john' 'just' 'keith' 'key' 'keys'\n",
      " 'keywords' 'kind' 'know' 'known' 'large' 'later' 'law' 'left' 'let'\n",
      " 'level' 'life' 'like' 'likely' 'line' 'lines' 'list' 'little' 'live' 'll'\n",
      " 'local' 'long' 'look' 'looking' 'lot' 'love' 'low' 'ma' 'mac' 'machine'\n",
      " 'mail' 'major' 'make' 'makes' 'making' 'man' 'mark' 'matter' 'max'\n",
      " 'maybe' 'mean' 'means' 'memory' 'men' 'message' 'michael' 'mike' 'mind'\n",
      " 'mit' 'money' 'mr' 'ms' 'na' 'nasa' 'national' 'need' 'net' 'netcom'\n",
      " 'network' 'new' 'news' 'newsreader' 'nice' 'nntp' 'non' 'note' 'number'\n",
      " 'numbers' 'office' 'oh' 'ohio' 'old' 'open' 'opinions' 'order' 'org'\n",
      " 'organization' 'original' 'output' 'package' 'paul' 'pay' 'pc' 'people'\n",
      " 'period' 'person' 'phone' 'pitt' 'pl' 'place' 'play' 'players' 'point'\n",
      " 'points' 'police' 'possible' 'post' 'posting' 'power' 'president' 'press'\n",
      " 'pretty' 'price' 'private' 'probably' 'problem' 'problems' 'program'\n",
      " 'programs' 'provide' 'pub' 'public' 'question' 'questions' 'quite' 'read'\n",
      " 'reading' 'real' 'really' 'reason' 'religion' 'remember' 'reply'\n",
      " 'research' 'right' 'rights' 'robert' 'run' 'running' 'said' 'sale' 'san'\n",
      " 'saw' 'say' 'saying' 'says' 'school' 'science' 'screen' 'scsi' 'season'\n",
      " 'second' 'security' 'seen' 'send' 'sense' 'server' 'service' 'services'\n",
      " 'set' 'similar' 'simple' 'simply' 'single' 'size' 'small' 'software'\n",
      " 'sorry' 'sort' 'sound' 'source' 'space' 'speed' 'st' 'standard' 'start'\n",
      " 'started' 'state' 'states' 'steve' 'stop' 'stuff' 'subject' 'summary'\n",
      " 'sun' 'support' 'sure' 'systems' 'talk' 'talking' 'team' 'technology'\n",
      " 'tell' 'test' 'text' 'thanks' 'thing' 'things' 'think' 'thought' 'time'\n",
      " 'times' 'today' 'told' 'took' 'toronto' 'tried' 'true' 'truth' 'try'\n",
      " 'trying' 'turkish' 'type' 'uiuc' 'uk' 'understand' 'university' 'unix'\n",
      " 'unless' 'usa' 'use' 'used' 'user' 'using' 'usually' 'uucp' 've'\n",
      " 'version' 'video' 'view' 'virginia' 'vs' 'want' 'wanted' 'war'\n",
      " 'washington' 'way' 'went' 'white' 'win' 'window' 'windows' 'won' 'word'\n",
      " 'words' 'work' 'working' 'works' 'world' 'wouldn' 'write' 'writes'\n",
      " 'wrong' 'wrote' 'year' 'years' 'yes' 'york']\n"
     ]
    }
   ],
   "source": [
    "print(cv.get_feature_names_out())"
   ]
  },
  {
   "cell_type": "code",
   "execution_count": 8,
   "metadata": {},
   "outputs": [],
   "source": [
    "#util functions\n",
    "def letters_only(word):\n",
    "    return word.isalpha()\n",
    "groups = fetch_20newsgroups()\n",
    "cleaned = []\n",
    "all_names = set(names.words())\n",
    "lemmatizer = WordNetLemmatizer()"
   ]
  },
  {
   "cell_type": "code",
   "execution_count": 9,
   "metadata": {},
   "outputs": [],
   "source": [
    "#preprocessing the data to remove wasteful words, common names and lemmatizing the data\n",
    "for post in groups['data']:\n",
    "    cleaned.append(' '.join([lemmatizer.lemmatize(word.lower()) for word in post.split(' ') if letters_only(word) and word not in all_names]))"
   ]
  },
  {
   "cell_type": "code",
   "execution_count": 10,
   "metadata": {},
   "outputs": [],
   "source": [
    "transformed = cv.fit_transform(cleaned)"
   ]
  },
  {
   "cell_type": "code",
   "execution_count": 11,
   "metadata": {},
   "outputs": [
    {
     "name": "stdout",
     "output_type": "stream",
     "text": [
      "['able' 'accept' 'access' 'according' 'act' 'action' 'actually' 'add'\n",
      " 'address' 'ago' 'agree' 'algorithm' 'allow' 'american' 'anonymous'\n",
      " 'answer' 'anybody' 'apple' 'application' 'apr' 'arab' 'area' 'argument'\n",
      " 'armenian' 'article' 'ask' 'asked' 'assume' 'atheist' 'attack' 'attempt'\n",
      " 'available' 'away' 'bad' 'based' 'belief' 'believe' 'best' 'better'\n",
      " 'bible' 'big' 'bike' 'bit' 'black' 'board' 'body' 'book' 'box' 'build'\n",
      " 'building' 'built' 'bus' 'buy' 'ca' 'called' 'came' 'car' 'card' 'care'\n",
      " 'carry' 'case' 'cause' 'center' 'certain' 'certainly' 'chance' 'change'\n",
      " 'check' 'child' 'chip' 'christian' 'church' 'city' 'claim' 'clear'\n",
      " 'clipper' 'close' 'code' 'color' 'come' 'coming' 'command' 'comment'\n",
      " 'common' 'communication' 'company' 'computer' 'computing' 'consider'\n",
      " 'considered' 'contact' 'control' 'copy' 'correct' 'cost' 'country'\n",
      " 'couple' 'course' 'court' 'cover' 'create' 'crime' 'current' 'cut' 'data'\n",
      " 'day' 'deal' 'death' 'department' 'device' 'did' 'difference' 'different'\n",
      " 'discussion' 'disk' 'display' 'division' 'doe' 'doing' 'doubt' 'drive'\n",
      " 'driver' 'drug' 'early' 'earth' 'easy' 'effect' 'email' 'encryption'\n",
      " 'end' 'engineering' 'entry' 'error' 'especially' 'event' 'evidence'\n",
      " 'exactly' 'example' 'expect' 'experience' 'explain' 'face' 'fact' 'faq'\n",
      " 'far' 'fast' 'federal' 'feel' 'figure' 'file' 'following' 'food' 'force'\n",
      " 'form' 'free' 'friend' 'ftp' 'function' 'game' 'gave' 'general' 'getting'\n",
      " 'given' 'goal' 'god' 'going' 'good' 'got' 'government' 'graphic' 'great'\n",
      " 'greek' 'ground' 'group' 'guess' 'gun' 'guy' 'ha' 'hand' 'happened'\n",
      " 'hard' 'hardware' 'having' 'head' 'health' 'hear' 'heard' 'hell' 'help'\n",
      " 'high' 'history' 'hit' 'hockey' 'hold' 'home' 'hope' 'house' 'human'\n",
      " 'ibm' 'idea' 'image' 'important' 'include' 'includes' 'including'\n",
      " 'individual' 'info' 'information' 'instead' 'institute' 'interested'\n",
      " 'interesting' 'international' 'internet' 'israeli' 'issue' 'jew' 'jewish'\n",
      " 'job' 'just' 'key' 'kill' 'killed' 'kind' 'know' 'known' 'la' 'large'\n",
      " 'later' 'launch' 'law' 'le' 'lead' 'league' 'leave' 'left' 'legal' 'let'\n",
      " 'letter' 'level' 'life' 'light' 'like' 'likely' 'line' 'list' 'little'\n",
      " 'live' 'local' 'long' 'longer' 'look' 'looking' 'lost' 'lot' 'love' 'low'\n",
      " 'machine' 'mail' 'main' 'major' 'make' 'making' 'man' 'manager' 'matter'\n",
      " 'maybe' 'mean' 'medical' 'member' 'memory' 'men' 'mentioned' 'message'\n",
      " 'method' 'military' 'million' 'mind' 'mode' 'model' 'money' 'monitor'\n",
      " 'month' 'moral' 'mouse' 'muslim' 'nasa' 'national' 'near' 'need'\n",
      " 'network' 'new' 'news' 'nice' 'north' 'note' 'number' 'offer' 'old'\n",
      " 'open' 'opinion' 'order' 'original' 'output' 'package' 'particular'\n",
      " 'past' 'pay' 'pc' 'people' 'person' 'personal' 'phone' 'place' 'play'\n",
      " 'player' 'plus' 'point' 'police' 'policy' 'political' 'position'\n",
      " 'possible' 'post' 'posted' 'posting' 'power' 'president' 'press' 'pretty'\n",
      " 'previous' 'price' 'private' 'probably' 'problem' 'process' 'product'\n",
      " 'program' 'project' 'protect' 'provide' 'public' 'purpose' 'question'\n",
      " 'quite' 'radio' 'rate' 'read' 'reading' 'real' 'really' 'reason'\n",
      " 'reference' 'religion' 'religious' 'remember' 'reply' 'report' 'research'\n",
      " 'response' 'rest' 'result' 'return' 'right' 'road' 'rule' 'run' 'running'\n",
      " 'russian' 'said' 'sale' 'san' 'save' 'saw' 'say' 'saying' 'school'\n",
      " 'science' 'screen' 'scsi' 'second' 'security' 'seen' 'sell' 'send'\n",
      " 'sense' 'sent' 'serial' 'server' 'service' 'set' 'shall' 'short' 'shot'\n",
      " 'similar' 'simple' 'simply' 'single' 'site' 'situation' 'size' 'small'\n",
      " 'software' 'sort' 'sound' 'source' 'space' 'speak' 'special' 'specific'\n",
      " 'speed' 'standard' 'start' 'started' 'state' 'statement' 'stop' 'strong'\n",
      " 'study' 'stuff' 'subject' 'sun' 'support' 'sure' 'taken' 'taking' 'talk'\n",
      " 'talking' 'tape' 'tax' 'team' 'technical' 'technology' 'tell' 'term'\n",
      " 'test' 'text' 'thanks' 'thing' 'think' 'thinking' 'thought' 'time' 'tin'\n",
      " 'today' 'told' 'took' 'total' 'tried' 'true' 'truth' 'try' 'trying'\n",
      " 'turkish' 'turn' 'type' 'understand' 'unit' 'united' 'university' 'unix'\n",
      " 'unless' 'use' 'used' 'user' 'using' 'usually' 'value' 'various'\n",
      " 'version' 'video' 'view' 'wa' 'want' 'wanted' 'war' 'water' 'way'\n",
      " 'weapon' 'week' 'went' 'western' 'white' 'widget' 'willing' 'win'\n",
      " 'window' 'wish' 'woman' 'word' 'work' 'working' 'world' 'worth' 'write'\n",
      " 'written' 'wrong' 'year' 'york' 'young']\n"
     ]
    }
   ],
   "source": [
    "print(cv.get_feature_names_out())"
   ]
  },
  {
   "cell_type": "code",
   "execution_count": 12,
   "metadata": {},
   "outputs": [
    {
     "name": "stderr",
     "output_type": "stream",
     "text": [
      "/home/skhmn/Desktop/coding/ml_algos/venv/lib/python3.10/site-packages/sklearn/cluster/_kmeans.py:1412: FutureWarning: The default value of `n_init` will change from 10 to 'auto' in 1.4. Set the value of `n_init` explicitly to suppress the warning\n",
      "  super()._check_params_vs_input(X, default_n_init=10)\n"
     ]
    }
   ],
   "source": [
    "#k-means clustering on the tranformed data\n",
    "km = KMeans(n_clusters=20)\n",
    "km.fit(transformed)\n",
    "labels = groups.target"
   ]
  },
  {
   "cell_type": "code",
   "execution_count": 13,
   "metadata": {},
   "outputs": [
    {
     "name": "stdout",
     "output_type": "stream",
     "text": [
      "[13  6 13 ...  6  6  6]\n"
     ]
    }
   ],
   "source": [
    "print(km.labels_)"
   ]
  },
  {
   "cell_type": "code",
   "execution_count": 14,
   "metadata": {},
   "outputs": [
    {
     "data": {
      "text/plain": [
       "Text(0, 0.5, 'Cluster')"
      ]
     },
     "execution_count": 14,
     "metadata": {},
     "output_type": "execute_result"
    },
    {
     "data": {
      "image/png": "[encoded data removed]",
      "text/plain": [
       "<Figure size 640x480 with 1 Axes>"
      ]
     },
     "metadata": {},
     "output_type": "display_data"
    }
   ],
   "source": [
    "#shows how many examples of lets say group 0 the clustering assigned to group 0 or 2 or so on \n",
    "plt.scatter(labels, km.labels_)\n",
    "plt.xlabel('Newsgroup')\n",
    "plt.ylabel('Cluster')"
   ]
  },
  {
   "cell_type": "code",
   "execution_count": 19,
   "metadata": {},
   "outputs": [
    {
     "name": "stderr",
     "output_type": "stream",
     "text": [
      "/home/skhmn/Desktop/coding/ml_algos/venv/lib/python3.10/site-packages/sklearn/decomposition/_nmf.py:1710: ConvergenceWarning: Maximum number of iterations 200 reached. Increase it to improve convergence.\n",
      "  warnings.warn(\n"
     ]
    }
   ],
   "source": [
    "#non negative matrix factorization for topic modeling\n",
    "nmf = NMF(n_components=100, random_state=43).fit(transformed)"
   ]
  },
  {
   "cell_type": "code",
   "execution_count": 23,
   "metadata": {},
   "outputs": [
    {
     "name": "stdout",
     "output_type": "stream",
     "text": [
      "0: wa went came told took started woman saw\n",
      "1: image file color free version available better program\n",
      "2: file output line entry write program open return\n",
      "3: disk hard support card drive board high apr\n",
      "4: entry program file rule info number use source\n",
      "5: hockey league game team division player play san\n",
      "6: ha given called able taken possible exactly far\n",
      "7: want let help life copy sort live trying\n",
      "8: gun control crime united american weapon second death\n",
      "9: launch space service communication sale technology small data\n",
      "10: space nasa national earth science international center radio\n",
      "11: turkish government sent took american world armenian war\n",
      "12: file change set server command control value ftp\n",
      "13: believe belief truth claim evidence hell different christian\n",
      "14: read claim post discussion reading far posting issue\n",
      "15: encryption technology protect policy access device security key\n",
      "16: use using note similar le usually code provide\n",
      "17: widget application value set type return event code\n",
      "18: computer public service internet policy issue communication email\n",
      "19: health medical public national care user current service\n",
      "20: president group tax working press said job package\n",
      "21: armenian russian muslim turkish city road today million\n",
      "22: la win san radio went talk list new\n",
      "23: anonymous posting service server group user post message\n",
      "24: color ibm week chip memory standard monitor machine\n",
      "25: like sound long remember love hear little real\n",
      "26: information san police group league including offer political\n",
      "27: new york change study early body result event\n",
      "28: people doing woman lot tell world country killed\n",
      "29: russian president american money program food support private\n",
      "30: ground box run usually code current house case\n",
      "31: atheist religious religion belief god sort idea feel\n",
      "32: key message security public clipper algorithm chip encryption\n",
      "33: water city protect public north similar large list\n",
      "34: good cover better great pretty probably bad player\n",
      "35: god bible shall man life hell love end\n",
      "36: wa thought gave later taken little fact lost\n",
      "37: human life moral kill world statement person reason\n",
      "38: send mail message server support faq ftp place\n",
      "39: graphic package computer code various run software site\n",
      "40: know tell sure let far help hand wanted\n",
      "41: tape driver work note cause using memory sound\n",
      "42: car speed driver change buy high probably better\n",
      "43: image user color package include support display set\n",
      "44: greek word muslim western act talk killed turkish\n",
      "45: time long order lot away seen having able\n",
      "46: right second free security shall left court american\n",
      "47: data available information based science contact standard disk\n",
      "48: make sense probably end sure big try simple\n",
      "49: power le special play local area left far\n",
      "50: bit stuff place line using special north let\n",
      "51: work job young school lot private create important\n",
      "52: doe mean different actually probably ask common difference\n",
      "53: window manager using application user offer server work\n",
      "54: internet anonymous email user information address network mail\n",
      "55: research center medical national study test north york\n",
      "56: child case le report area group black technology\n",
      "57: shall mean military person weapon division application following\n",
      "58: argument true form evidence event truth known general\n",
      "59: scsi hard pc drive device bus talking common\n",
      "60: problem having help work line using try long\n",
      "61: available version widget server includes support source set\n",
      "62: university general science computer muslim engineering computing board\n",
      "63: software using level pc process product version hardware\n",
      "64: used product standard group single version type using\n",
      "65: ftp available anonymous general package information written public\n",
      "66: program run display version change application function try\n",
      "67: question answer ask asked true reason claim science\n",
      "68: war military world attack russian force known american\n",
      "69: year ago old best hit pretty better great\n",
      "70: say mean attack clear value agree act given\n",
      "71: thing got saw sure trying told thought little\n",
      "72: way set best sure white actually tell single\n",
      "73: book reference speed second copy science according study\n",
      "74: rate difference city crime le study white likely\n",
      "75: just start maybe big woman thought figure sort\n",
      "76: number men le report large serial million following\n",
      "77: government sure federal free political reason private country\n",
      "78: need help kind phone able looking best maybe\n",
      "79: game got shot play second goal hit lead\n",
      "80: think lot try trying talk agree saying kind\n",
      "81: did death let fact man word history money\n",
      "82: list post offer group manager email discussion news\n",
      "83: drug war study reason group taken help using\n",
      "84: team player win run better play best bad\n",
      "85: jew jewish world war history help western arab\n",
      "86: point line different mean issue exactly algorithm far\n",
      "87: going mean sure got kind doing far stop\n",
      "88: said called police saying care taken according san\n",
      "89: card driver video mouse support mode serial bus\n",
      "90: israeli arab attack policy true fact apr stop\n",
      "91: unit size serial chip disk clipper total got\n",
      "92: day word christian church bible act specific mean\n",
      "93: come tell trying coming great thought turn old\n",
      "94: article opinion apr post agree bike heard posting\n",
      "95: drive head using type set single check mode\n",
      "96: really better lot best probably player actually little\n",
      "97: look little course open tell looking old guy\n",
      "98: state united national public political control court federal\n",
      "99: law court act federal issue clipper specific moral\n"
     ]
    }
   ],
   "source": [
    "for topic_idx, topic in enumerate(nmf.components_):\n",
    "    label = '{}:'.format(topic_idx)\n",
    "    print(label, ' '.join([cv.get_feature_names_out()[i]for i in topic.argsort()[:-9:-1]]))"
   ]
  },
  {
   "cell_type": "code",
   "execution_count": null,
   "metadata": {},
   "outputs": [],
   "source": []
  }
 ],
 "metadata": {
  "kernelspec": {
   "display_name": "Python 3",
   "language": "python",
   "name": "python3"
  },
  "language_info": {
   "codemirror_mode": {
    "name": "ipython",
    "version": 3
   },
   "file_extension": ".py",
   "mimetype": "text/x-python",
   "name": "python",
   "nbconvert_exporter": "python",
   "pygments_lexer": "ipython3",
   "version": "3.10.6"
  },
  "orig_nbformat": 4
 },
 "nbformat": 4,
 "nbformat_minor": 2
}
